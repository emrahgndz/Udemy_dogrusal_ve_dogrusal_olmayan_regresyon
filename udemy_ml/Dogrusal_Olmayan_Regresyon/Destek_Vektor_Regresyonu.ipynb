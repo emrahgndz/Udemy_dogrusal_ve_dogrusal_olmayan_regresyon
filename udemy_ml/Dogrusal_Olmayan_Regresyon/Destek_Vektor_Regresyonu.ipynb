{
 "cells": [
  {
   "cell_type": "code",
   "execution_count": 91,
   "id": "6163b235",
   "metadata": {},
   "outputs": [],
   "source": [
    "import numpy as np\n",
    "import pandas as pd\n",
    "from sklearn.model_selection import train_test_split,ShuffleSplit,GridSearchCV\n",
    "from sklearn.metrics import mean_squared_error,r2_score\n",
    "import matplotlib.pyplot as plt\n",
    "from sklearn.preprocessing import scale\n",
    "from sklearn import model_selection\n",
    "from sklearn.tree import DecisionTreeClassifier, DecisionTreeRegressor\n",
    "from sklearn.neighbors import KNeighborsRegressor\n",
    "from sklearn.ensemble import BaggingRegressor\n",
    "from sklearn.model_selection import cross_val_score\n",
    "from sklearn.svm import SVR\n",
    "import seaborn as sns\n",
    "\n",
    "\n"
   ]
  },
  {
   "cell_type": "code",
   "execution_count": 113,
   "id": "d624a90b",
   "metadata": {},
   "outputs": [],
   "source": [
    "hit = pd.read_csv(\"Hitters.csv\")\n",
    "df =hit.copy()\n",
    "df = df.dropna()\n",
    "dms = pd.get_dummies(df[[\"League\",\"Division\",\"NewLeague\"]])\n",
    "y = df[\"Salary\"]\n",
    "x_ = df.drop([\"Salary\",\"League\",\"Division\",\"NewLeague\"], axis = 1).astype(\"float64\")\n",
    "x = pd.concat([x_,dms[[\"League_N\",\"Division_W\",\"NewLeague_N\"]]],axis=1)\n",
    "x_train,x_test,y_train,y_test = train_test_split(x,y,test_size=0.25,random_state=42)"
   ]
  },
  {
   "cell_type": "code",
   "execution_count": 93,
   "id": "63cb7cfc",
   "metadata": {},
   "outputs": [
    {
     "data": {
      "text/html": [
       "<div>\n",
       "<style scoped>\n",
       "    .dataframe tbody tr th:only-of-type {\n",
       "        vertical-align: middle;\n",
       "    }\n",
       "\n",
       "    .dataframe tbody tr th {\n",
       "        vertical-align: top;\n",
       "    }\n",
       "\n",
       "    .dataframe thead th {\n",
       "        text-align: right;\n",
       "    }\n",
       "</style>\n",
       "<table border=\"1\" class=\"dataframe\">\n",
       "  <thead>\n",
       "    <tr style=\"text-align: right;\">\n",
       "      <th></th>\n",
       "      <th>AtBat</th>\n",
       "      <th>Hits</th>\n",
       "      <th>HmRun</th>\n",
       "      <th>Runs</th>\n",
       "      <th>RBI</th>\n",
       "      <th>Walks</th>\n",
       "      <th>Years</th>\n",
       "      <th>CAtBat</th>\n",
       "      <th>CHits</th>\n",
       "      <th>CHmRun</th>\n",
       "      <th>CRuns</th>\n",
       "      <th>CRBI</th>\n",
       "      <th>CWalks</th>\n",
       "      <th>League</th>\n",
       "      <th>Division</th>\n",
       "      <th>PutOuts</th>\n",
       "      <th>Assists</th>\n",
       "      <th>Errors</th>\n",
       "      <th>Salary</th>\n",
       "      <th>NewLeague</th>\n",
       "    </tr>\n",
       "  </thead>\n",
       "  <tbody>\n",
       "    <tr>\n",
       "      <th>1</th>\n",
       "      <td>315</td>\n",
       "      <td>81</td>\n",
       "      <td>7</td>\n",
       "      <td>24</td>\n",
       "      <td>38</td>\n",
       "      <td>39</td>\n",
       "      <td>14</td>\n",
       "      <td>3449</td>\n",
       "      <td>835</td>\n",
       "      <td>69</td>\n",
       "      <td>321</td>\n",
       "      <td>414</td>\n",
       "      <td>375</td>\n",
       "      <td>N</td>\n",
       "      <td>W</td>\n",
       "      <td>632</td>\n",
       "      <td>43</td>\n",
       "      <td>10</td>\n",
       "      <td>475.0</td>\n",
       "      <td>N</td>\n",
       "    </tr>\n",
       "    <tr>\n",
       "      <th>2</th>\n",
       "      <td>479</td>\n",
       "      <td>130</td>\n",
       "      <td>18</td>\n",
       "      <td>66</td>\n",
       "      <td>72</td>\n",
       "      <td>76</td>\n",
       "      <td>3</td>\n",
       "      <td>1624</td>\n",
       "      <td>457</td>\n",
       "      <td>63</td>\n",
       "      <td>224</td>\n",
       "      <td>266</td>\n",
       "      <td>263</td>\n",
       "      <td>A</td>\n",
       "      <td>W</td>\n",
       "      <td>880</td>\n",
       "      <td>82</td>\n",
       "      <td>14</td>\n",
       "      <td>480.0</td>\n",
       "      <td>A</td>\n",
       "    </tr>\n",
       "    <tr>\n",
       "      <th>3</th>\n",
       "      <td>496</td>\n",
       "      <td>141</td>\n",
       "      <td>20</td>\n",
       "      <td>65</td>\n",
       "      <td>78</td>\n",
       "      <td>37</td>\n",
       "      <td>11</td>\n",
       "      <td>5628</td>\n",
       "      <td>1575</td>\n",
       "      <td>225</td>\n",
       "      <td>828</td>\n",
       "      <td>838</td>\n",
       "      <td>354</td>\n",
       "      <td>N</td>\n",
       "      <td>E</td>\n",
       "      <td>200</td>\n",
       "      <td>11</td>\n",
       "      <td>3</td>\n",
       "      <td>500.0</td>\n",
       "      <td>N</td>\n",
       "    </tr>\n",
       "    <tr>\n",
       "      <th>4</th>\n",
       "      <td>321</td>\n",
       "      <td>87</td>\n",
       "      <td>10</td>\n",
       "      <td>39</td>\n",
       "      <td>42</td>\n",
       "      <td>30</td>\n",
       "      <td>2</td>\n",
       "      <td>396</td>\n",
       "      <td>101</td>\n",
       "      <td>12</td>\n",
       "      <td>48</td>\n",
       "      <td>46</td>\n",
       "      <td>33</td>\n",
       "      <td>N</td>\n",
       "      <td>E</td>\n",
       "      <td>805</td>\n",
       "      <td>40</td>\n",
       "      <td>4</td>\n",
       "      <td>91.5</td>\n",
       "      <td>N</td>\n",
       "    </tr>\n",
       "    <tr>\n",
       "      <th>5</th>\n",
       "      <td>594</td>\n",
       "      <td>169</td>\n",
       "      <td>4</td>\n",
       "      <td>74</td>\n",
       "      <td>51</td>\n",
       "      <td>35</td>\n",
       "      <td>11</td>\n",
       "      <td>4408</td>\n",
       "      <td>1133</td>\n",
       "      <td>19</td>\n",
       "      <td>501</td>\n",
       "      <td>336</td>\n",
       "      <td>194</td>\n",
       "      <td>A</td>\n",
       "      <td>W</td>\n",
       "      <td>282</td>\n",
       "      <td>421</td>\n",
       "      <td>25</td>\n",
       "      <td>750.0</td>\n",
       "      <td>A</td>\n",
       "    </tr>\n",
       "  </tbody>\n",
       "</table>\n",
       "</div>"
      ],
      "text/plain": [
       "   AtBat  Hits  HmRun  Runs  RBI  Walks  Years  CAtBat  CHits  CHmRun  CRuns  \\\n",
       "1    315    81      7    24   38     39     14    3449    835      69    321   \n",
       "2    479   130     18    66   72     76      3    1624    457      63    224   \n",
       "3    496   141     20    65   78     37     11    5628   1575     225    828   \n",
       "4    321    87     10    39   42     30      2     396    101      12     48   \n",
       "5    594   169      4    74   51     35     11    4408   1133      19    501   \n",
       "\n",
       "   CRBI  CWalks League Division  PutOuts  Assists  Errors  Salary NewLeague  \n",
       "1   414     375      N        W      632       43      10   475.0         N  \n",
       "2   266     263      A        W      880       82      14   480.0         A  \n",
       "3   838     354      N        E      200       11       3   500.0         N  \n",
       "4    46      33      N        E      805       40       4    91.5         N  \n",
       "5   336     194      A        W      282      421      25   750.0         A  "
      ]
     },
     "execution_count": 93,
     "metadata": {},
     "output_type": "execute_result"
    }
   ],
   "source": [
    "df.head()"
   ]
  },
  {
   "cell_type": "code",
   "execution_count": 94,
   "id": "f9fcfa4b",
   "metadata": {},
   "outputs": [],
   "source": [
    "x_train = pd.DataFrame(x_train.iloc[:,1:2]).values\n",
    "x_test = pd.DataFrame(x_test.iloc[:,1:2]).values"
   ]
  },
  {
   "cell_type": "code",
   "execution_count": 95,
   "id": "290d7dd5",
   "metadata": {},
   "outputs": [
    {
     "data": {
      "text/plain": [
       "array([[ 91.],\n",
       "       [144.],\n",
       "       [152.],\n",
       "       [ 49.],\n",
       "       [ 95.],\n",
       "       [144.],\n",
       "       [ 40.],\n",
       "       [ 71.],\n",
       "       [112.],\n",
       "       [174.],\n",
       "       [171.],\n",
       "       [152.],\n",
       "       [157.],\n",
       "       [118.],\n",
       "       [159.],\n",
       "       [123.],\n",
       "       [141.],\n",
       "       [ 39.],\n",
       "       [  4.],\n",
       "       [ 93.],\n",
       "       [163.],\n",
       "       [ 96.],\n",
       "       [103.],\n",
       "       [ 81.],\n",
       "       [ 54.],\n",
       "       [106.],\n",
       "       [110.],\n",
       "       [ 76.],\n",
       "       [ 86.],\n",
       "       [ 39.],\n",
       "       [ 37.],\n",
       "       [119.],\n",
       "       [147.],\n",
       "       [ 56.],\n",
       "       [ 66.],\n",
       "       [ 82.],\n",
       "       [ 85.],\n",
       "       [171.],\n",
       "       [103.],\n",
       "       [ 54.],\n",
       "       [ 41.],\n",
       "       [ 60.],\n",
       "       [ 57.],\n",
       "       [ 49.],\n",
       "       [ 58.],\n",
       "       [160.],\n",
       "       [144.],\n",
       "       [117.],\n",
       "       [ 73.],\n",
       "       [ 42.],\n",
       "       [ 84.],\n",
       "       [152.],\n",
       "       [138.],\n",
       "       [142.],\n",
       "       [132.],\n",
       "       [135.],\n",
       "       [ 78.],\n",
       "       [149.],\n",
       "       [ 86.],\n",
       "       [151.],\n",
       "       [119.],\n",
       "       [102.],\n",
       "       [ 82.],\n",
       "       [122.],\n",
       "       [108.],\n",
       "       [172.],\n",
       "       [ 64.],\n",
       "       [ 81.],\n",
       "       [ 57.],\n",
       "       [ 54.],\n",
       "       [ 68.],\n",
       "       [ 70.],\n",
       "       [169.],\n",
       "       [146.],\n",
       "       [238.],\n",
       "       [ 77.],\n",
       "       [127.],\n",
       "       [113.],\n",
       "       [126.],\n",
       "       [178.],\n",
       "       [168.],\n",
       "       [131.],\n",
       "       [169.],\n",
       "       [ 94.],\n",
       "       [ 46.],\n",
       "       [ 84.],\n",
       "       [154.],\n",
       "       [150.],\n",
       "       [163.],\n",
       "       [184.],\n",
       "       [ 76.],\n",
       "       [ 47.],\n",
       "       [186.],\n",
       "       [ 78.],\n",
       "       [ 90.],\n",
       "       [174.],\n",
       "       [177.],\n",
       "       [ 94.],\n",
       "       [128.],\n",
       "       [101.],\n",
       "       [163.],\n",
       "       [ 52.],\n",
       "       [129.],\n",
       "       [101.],\n",
       "       [108.],\n",
       "       [128.],\n",
       "       [168.],\n",
       "       [112.],\n",
       "       [ 56.],\n",
       "       [126.],\n",
       "       [213.],\n",
       "       [131.],\n",
       "       [ 78.],\n",
       "       [136.],\n",
       "       [ 80.],\n",
       "       [ 87.],\n",
       "       [170.],\n",
       "       [131.],\n",
       "       [101.],\n",
       "       [ 61.],\n",
       "       [135.],\n",
       "       [ 32.],\n",
       "       [139.],\n",
       "       [ 93.],\n",
       "       [ 51.],\n",
       "       [132.],\n",
       "       [142.],\n",
       "       [ 81.],\n",
       "       [ 60.],\n",
       "       [159.],\n",
       "       [ 55.],\n",
       "       [ 77.],\n",
       "       [125.],\n",
       "       [141.],\n",
       "       [147.],\n",
       "       [ 85.],\n",
       "       [ 92.],\n",
       "       [ 43.],\n",
       "       [ 96.],\n",
       "       [169.],\n",
       "       [ 73.],\n",
       "       [ 92.],\n",
       "       [ 65.],\n",
       "       [119.],\n",
       "       [ 43.],\n",
       "       [ 47.],\n",
       "       [ 63.],\n",
       "       [113.],\n",
       "       [ 83.],\n",
       "       [122.],\n",
       "       [103.],\n",
       "       [ 53.],\n",
       "       [ 66.],\n",
       "       [ 43.],\n",
       "       [140.],\n",
       "       [ 56.],\n",
       "       [158.],\n",
       "       [ 68.],\n",
       "       [211.],\n",
       "       [117.],\n",
       "       [ 77.],\n",
       "       [103.],\n",
       "       [163.],\n",
       "       [ 53.],\n",
       "       [ 94.],\n",
       "       [163.],\n",
       "       [ 97.],\n",
       "       [ 76.],\n",
       "       [179.],\n",
       "       [127.],\n",
       "       [123.],\n",
       "       [ 72.],\n",
       "       [157.],\n",
       "       [101.],\n",
       "       [ 92.],\n",
       "       [ 70.],\n",
       "       [139.],\n",
       "       [130.],\n",
       "       [ 81.],\n",
       "       [127.],\n",
       "       [ 92.],\n",
       "       [ 70.],\n",
       "       [ 39.],\n",
       "       [104.],\n",
       "       [ 70.],\n",
       "       [ 77.],\n",
       "       [145.],\n",
       "       [115.],\n",
       "       [101.],\n",
       "       [ 68.],\n",
       "       [102.],\n",
       "       [170.],\n",
       "       [168.],\n",
       "       [ 52.],\n",
       "       [138.],\n",
       "       [103.],\n",
       "       [ 99.]])"
      ]
     },
     "execution_count": 95,
     "metadata": {},
     "output_type": "execute_result"
    }
   ],
   "source": [
    "x_train"
   ]
  },
  {
   "cell_type": "code",
   "execution_count": 96,
   "id": "6af3f631",
   "metadata": {},
   "outputs": [],
   "source": [
    "svr_model = SVR(kernel=\"linear\").fit(x_train,y_train)"
   ]
  },
  {
   "cell_type": "code",
   "execution_count": 97,
   "id": "5faa3ff0",
   "metadata": {},
   "outputs": [],
   "source": [
    "svr_pred = svr_model.predict(x_train)"
   ]
  },
  {
   "cell_type": "code",
   "execution_count": 98,
   "id": "5e107607",
   "metadata": {},
   "outputs": [
    {
     "data": {
      "text/plain": [
       "array([ 403.52804878,  666.91219512,  706.66829268,  194.80853659,\n",
       "        423.40609756,  666.91219512,  150.08292683,  304.13780488,\n",
       "        507.88780488,  815.99756098,  801.08902439,  706.66829268,\n",
       "        731.51585366,  537.70487805,  741.45487805,  562.55243902,\n",
       "        652.00365854,  145.11341463,  -28.8195122 ,  413.46707317,\n",
       "        761.33292683,  428.37560976,  463.16219512,  353.83292683,\n",
       "        219.65609756,  478.07073171,  497.94878049,  328.98536585,\n",
       "        378.6804878 ,  145.11341463,  135.17439024,  542.67439024,\n",
       "        681.82073171,  229.59512195,  279.2902439 ,  358.80243902,\n",
       "        373.71097561,  801.08902439,  463.16219512,  219.65609756,\n",
       "        155.05243902,  249.47317073,  234.56463415,  194.80853659,\n",
       "        239.53414634,  746.42439024,  666.91219512,  532.73536585,\n",
       "        314.07682927,  160.02195122,  368.74146341,  706.66829268,\n",
       "        637.09512195,  656.97317073,  607.27804878,  622.18658537,\n",
       "        338.92439024,  691.7597561 ,  378.6804878 ,  701.69878049,\n",
       "        542.67439024,  458.19268293,  358.80243902,  557.58292683,\n",
       "        488.0097561 ,  806.05853659,  269.35121951,  353.83292683,\n",
       "        234.56463415,  219.65609756,  289.22926829,  299.16829268,\n",
       "        791.15      ,  676.85121951, 1134.04634146,  333.95487805,\n",
       "        582.4304878 ,  512.85731707,  577.46097561,  835.87560976,\n",
       "        786.1804878 ,  602.30853659,  791.15      ,  418.43658537,\n",
       "        179.9       ,  368.74146341,  716.60731707,  696.72926829,\n",
       "        761.33292683,  865.69268293,  328.98536585,  184.8695122 ,\n",
       "        875.63170732,  338.92439024,  398.55853659,  815.99756098,\n",
       "        830.90609756,  418.43658537,  587.4       ,  453.22317073,\n",
       "        761.33292683,  209.71707317,  592.3695122 ,  453.22317073,\n",
       "        488.0097561 ,  587.4       ,  786.1804878 ,  507.88780488,\n",
       "        229.59512195,  577.46097561, 1009.80853659,  602.30853659,\n",
       "        338.92439024,  627.15609756,  348.86341463,  383.65      ,\n",
       "        796.1195122 ,  602.30853659,  453.22317073,  254.44268293,\n",
       "        622.18658537,  110.32682927,  642.06463415,  413.46707317,\n",
       "        204.74756098,  607.27804878,  656.97317073,  353.83292683,\n",
       "        249.47317073,  741.45487805,  224.62560976,  333.95487805,\n",
       "        572.49146341,  652.00365854,  681.82073171,  373.71097561,\n",
       "        408.49756098,  164.99146341,  428.37560976,  791.15      ,\n",
       "        314.07682927,  408.49756098,  274.32073171,  542.67439024,\n",
       "        164.99146341,  184.8695122 ,  264.38170732,  512.85731707,\n",
       "        363.77195122,  557.58292683,  463.16219512,  214.68658537,\n",
       "        279.2902439 ,  164.99146341,  647.03414634,  229.59512195,\n",
       "        736.48536585,  289.22926829,  999.8695122 ,  532.73536585,\n",
       "        333.95487805,  463.16219512,  761.33292683,  214.68658537,\n",
       "        418.43658537,  761.33292683,  433.34512195,  328.98536585,\n",
       "        840.84512195,  582.4304878 ,  562.55243902,  309.10731707,\n",
       "        731.51585366,  453.22317073,  408.49756098,  299.16829268,\n",
       "        642.06463415,  597.33902439,  353.83292683,  582.4304878 ,\n",
       "        408.49756098,  299.16829268,  145.11341463,  468.13170732,\n",
       "        299.16829268,  333.95487805,  671.88170732,  522.79634146,\n",
       "        453.22317073,  289.22926829,  458.19268293,  796.1195122 ,\n",
       "        786.1804878 ,  209.71707317,  637.09512195,  463.16219512,\n",
       "        443.28414634])"
      ]
     },
     "execution_count": 98,
     "metadata": {},
     "output_type": "execute_result"
    }
   ],
   "source": [
    "svr_pred"
   ]
  },
  {
   "cell_type": "code",
   "execution_count": 99,
   "id": "a0414d9f",
   "metadata": {},
   "outputs": [
    {
     "name": "stdout",
     "output_type": "stream",
     "text": [
      "y = -48.69756097561513 + 4.969512195122093 x\n"
     ]
    }
   ],
   "source": [
    "print(\"y = {0} + {1} x\".format(svr_model.intercept_[0],\n",
    "                              svr_model.coef_[0][0]))"
   ]
  },
  {
   "cell_type": "code",
   "execution_count": 100,
   "id": "5c4701c9",
   "metadata": {},
   "outputs": [
    {
     "data": {
      "text/plain": [
       "array([[ 91.],\n",
       "       [144.],\n",
       "       [152.],\n",
       "       [ 49.],\n",
       "       [ 95.],\n",
       "       [144.],\n",
       "       [ 40.],\n",
       "       [ 71.],\n",
       "       [112.],\n",
       "       [174.],\n",
       "       [171.],\n",
       "       [152.],\n",
       "       [157.],\n",
       "       [118.],\n",
       "       [159.],\n",
       "       [123.],\n",
       "       [141.],\n",
       "       [ 39.],\n",
       "       [  4.],\n",
       "       [ 93.],\n",
       "       [163.],\n",
       "       [ 96.],\n",
       "       [103.],\n",
       "       [ 81.],\n",
       "       [ 54.],\n",
       "       [106.],\n",
       "       [110.],\n",
       "       [ 76.],\n",
       "       [ 86.],\n",
       "       [ 39.],\n",
       "       [ 37.],\n",
       "       [119.],\n",
       "       [147.],\n",
       "       [ 56.],\n",
       "       [ 66.],\n",
       "       [ 82.],\n",
       "       [ 85.],\n",
       "       [171.],\n",
       "       [103.],\n",
       "       [ 54.],\n",
       "       [ 41.],\n",
       "       [ 60.],\n",
       "       [ 57.],\n",
       "       [ 49.],\n",
       "       [ 58.],\n",
       "       [160.],\n",
       "       [144.],\n",
       "       [117.],\n",
       "       [ 73.],\n",
       "       [ 42.],\n",
       "       [ 84.],\n",
       "       [152.],\n",
       "       [138.],\n",
       "       [142.],\n",
       "       [132.],\n",
       "       [135.],\n",
       "       [ 78.],\n",
       "       [149.],\n",
       "       [ 86.],\n",
       "       [151.],\n",
       "       [119.],\n",
       "       [102.],\n",
       "       [ 82.],\n",
       "       [122.],\n",
       "       [108.],\n",
       "       [172.],\n",
       "       [ 64.],\n",
       "       [ 81.],\n",
       "       [ 57.],\n",
       "       [ 54.],\n",
       "       [ 68.],\n",
       "       [ 70.],\n",
       "       [169.],\n",
       "       [146.],\n",
       "       [238.],\n",
       "       [ 77.],\n",
       "       [127.],\n",
       "       [113.],\n",
       "       [126.],\n",
       "       [178.],\n",
       "       [168.],\n",
       "       [131.],\n",
       "       [169.],\n",
       "       [ 94.],\n",
       "       [ 46.],\n",
       "       [ 84.],\n",
       "       [154.],\n",
       "       [150.],\n",
       "       [163.],\n",
       "       [184.],\n",
       "       [ 76.],\n",
       "       [ 47.],\n",
       "       [186.],\n",
       "       [ 78.],\n",
       "       [ 90.],\n",
       "       [174.],\n",
       "       [177.],\n",
       "       [ 94.],\n",
       "       [128.],\n",
       "       [101.],\n",
       "       [163.],\n",
       "       [ 52.],\n",
       "       [129.],\n",
       "       [101.],\n",
       "       [108.],\n",
       "       [128.],\n",
       "       [168.],\n",
       "       [112.],\n",
       "       [ 56.],\n",
       "       [126.],\n",
       "       [213.],\n",
       "       [131.],\n",
       "       [ 78.],\n",
       "       [136.],\n",
       "       [ 80.],\n",
       "       [ 87.],\n",
       "       [170.],\n",
       "       [131.],\n",
       "       [101.],\n",
       "       [ 61.],\n",
       "       [135.],\n",
       "       [ 32.],\n",
       "       [139.],\n",
       "       [ 93.],\n",
       "       [ 51.],\n",
       "       [132.],\n",
       "       [142.],\n",
       "       [ 81.],\n",
       "       [ 60.],\n",
       "       [159.],\n",
       "       [ 55.],\n",
       "       [ 77.],\n",
       "       [125.],\n",
       "       [141.],\n",
       "       [147.],\n",
       "       [ 85.],\n",
       "       [ 92.],\n",
       "       [ 43.],\n",
       "       [ 96.],\n",
       "       [169.],\n",
       "       [ 73.],\n",
       "       [ 92.],\n",
       "       [ 65.],\n",
       "       [119.],\n",
       "       [ 43.],\n",
       "       [ 47.],\n",
       "       [ 63.],\n",
       "       [113.],\n",
       "       [ 83.],\n",
       "       [122.],\n",
       "       [103.],\n",
       "       [ 53.],\n",
       "       [ 66.],\n",
       "       [ 43.],\n",
       "       [140.],\n",
       "       [ 56.],\n",
       "       [158.],\n",
       "       [ 68.],\n",
       "       [211.],\n",
       "       [117.],\n",
       "       [ 77.],\n",
       "       [103.],\n",
       "       [163.],\n",
       "       [ 53.],\n",
       "       [ 94.],\n",
       "       [163.],\n",
       "       [ 97.],\n",
       "       [ 76.],\n",
       "       [179.],\n",
       "       [127.],\n",
       "       [123.],\n",
       "       [ 72.],\n",
       "       [157.],\n",
       "       [101.],\n",
       "       [ 92.],\n",
       "       [ 70.],\n",
       "       [139.],\n",
       "       [130.],\n",
       "       [ 81.],\n",
       "       [127.],\n",
       "       [ 92.],\n",
       "       [ 70.],\n",
       "       [ 39.],\n",
       "       [104.],\n",
       "       [ 70.],\n",
       "       [ 77.],\n",
       "       [145.],\n",
       "       [115.],\n",
       "       [101.],\n",
       "       [ 68.],\n",
       "       [102.],\n",
       "       [170.],\n",
       "       [168.],\n",
       "       [ 52.],\n",
       "       [138.],\n",
       "       [103.],\n",
       "       [ 99.]])"
      ]
     },
     "execution_count": 100,
     "metadata": {},
     "output_type": "execute_result"
    }
   ],
   "source": [
    "x_train"
   ]
  },
  {
   "cell_type": "code",
   "execution_count": 101,
   "id": "5cd89833",
   "metadata": {
    "scrolled": true
   },
   "outputs": [
    {
     "data": {
      "text/plain": [
       "[<matplotlib.lines.Line2D at 0x245fa18a2b0>]"
      ]
     },
     "execution_count": 101,
     "metadata": {},
     "output_type": "execute_result"
    },
    {
     "data": {
      "image/png": "[encoded data removed]",
      "text/plain": [
       "<Figure size 432x288 with 1 Axes>"
      ]
     },
     "metadata": {
      "needs_background": "light"
     },
     "output_type": "display_data"
    }
   ],
   "source": [
    "y_pred = svr_model.predict(x_train)\n",
    "plt.scatter(x_train,y_train)\n",
    "plt.plot(x_train,y_pred,color = \"r\")"
   ]
  },
  {
   "cell_type": "code",
   "execution_count": 102,
   "id": "d57e5bd5",
   "metadata": {
    "scrolled": true
   },
   "outputs": [
    {
     "name": "stdout",
     "output_type": "stream",
     "text": [
      "y = -8.814095480334572 + 5.1724561354706875 x\n"
     ]
    }
   ],
   "source": [
    "from sklearn.linear_model import LinearRegression\n",
    "lm_model = LinearRegression().fit(x_train,y_train)\n",
    "lm_pred = lm_model.predict(x_train)\n",
    "print(\"y = {0} + {1} x\".format(lm_model.intercept_, lm_model.coef_[0]))\n"
   ]
  },
  {
   "cell_type": "code",
   "execution_count": 103,
   "id": "f1998384",
   "metadata": {},
   "outputs": [
    {
     "data": {
      "text/plain": [
       "Text(0, 0.5, 'Maaş')"
      ]
     },
     "execution_count": 103,
     "metadata": {},
     "output_type": "execute_result"
    },
    {
     "data": {
      "image/png": "[encoded data removed]",
      "text/plain": [
       "<Figure size 432x288 with 1 Axes>"
      ]
     },
     "metadata": {
      "needs_background": "light"
     },
     "output_type": "display_data"
    }
   ],
   "source": [
    "plt.scatter(x_train,y_train,alpha=0.5,s=23)\n",
    "plt.plot(x_train,lm_pred,\"g\")\n",
    "plt.plot(x_train,y_pred,color = \"r\")\n",
    "\n",
    "plt.xlabel(\"Atış Sayısı\")\n",
    "plt.ylabel(\"Maaş\")"
   ]
  },
  {
   "cell_type": "markdown",
   "id": "0bda8ff3",
   "metadata": {},
   "source": [
    "# Tahmin"
   ]
  },
  {
   "cell_type": "code",
   "execution_count": 104,
   "id": "61d492d9",
   "metadata": {},
   "outputs": [
    {
     "name": "stdout",
     "output_type": "stream",
     "text": [
      "y = -48.69756097561513 + 4.969512195122093 x\n"
     ]
    }
   ],
   "source": [
    "print(\"y = {0} + {1} x\".format(svr_model.intercept_[0],\n",
    "                              svr_model.coef_[0][0]))"
   ]
  },
  {
   "cell_type": "code",
   "execution_count": 105,
   "id": "ec9cc8a7",
   "metadata": {},
   "outputs": [
    {
     "data": {
      "text/plain": [
       "array([403.52804878])"
      ]
     },
     "execution_count": 105,
     "metadata": {},
     "output_type": "execute_result"
    }
   ],
   "source": [
    "svr_model.predict([[91]])"
   ]
  },
  {
   "cell_type": "code",
   "execution_count": 106,
   "id": "52ec606e",
   "metadata": {},
   "outputs": [],
   "source": [
    "y_pred = svr_model.predict(x_test)"
   ]
  },
  {
   "cell_type": "code",
   "execution_count": 107,
   "id": "38c2f700",
   "metadata": {},
   "outputs": [
    {
     "data": {
      "text/plain": [
       "459.0187960365147"
      ]
     },
     "execution_count": 107,
     "metadata": {},
     "output_type": "execute_result"
    }
   ],
   "source": [
    "np.sqrt(mean_squared_error(y_test,y_pred))"
   ]
  },
  {
   "cell_type": "markdown",
   "id": "610ff887",
   "metadata": {},
   "source": [
    "# Model Tuning"
   ]
  },
  {
   "cell_type": "code",
   "execution_count": 114,
   "id": "3e605199",
   "metadata": {},
   "outputs": [],
   "source": [
    "svr_params = {\"C\": np.arange(0.1,2,0.1)}\n",
    "svr_cv_model = GridSearchCV(svr_model,svr_params,cv=10).fit(x_train,y_train)"
   ]
  },
  {
   "cell_type": "code",
   "execution_count": 115,
   "id": "3b812aeb",
   "metadata": {},
   "outputs": [
    {
     "data": {
      "text/plain": [
       "{'C': 0.4}"
      ]
     },
     "execution_count": 115,
     "metadata": {},
     "output_type": "execute_result"
    }
   ],
   "source": [
    "svr_cv_model.best_params_"
   ]
  },
  {
   "cell_type": "code",
   "execution_count": 116,
   "id": "abdd703c",
   "metadata": {},
   "outputs": [],
   "source": [
    "svr_tuned = SVR(kernel=\"linear\",C =pd.Series(svr_cv_model.best_params_)).fit(x_train,y_train)"
   ]
  },
  {
   "cell_type": "code",
   "execution_count": 117,
   "id": "db0d6eaf",
   "metadata": {},
   "outputs": [],
   "source": [
    "y_pred = svr_tuned.predict(x_test)"
   ]
  },
  {
   "cell_type": "code",
   "execution_count": 112,
   "id": "c358edd0",
   "metadata": {},
   "outputs": [
    {
     "data": {
      "text/plain": [
       "458.198966781116"
      ]
     },
     "execution_count": 112,
     "metadata": {},
     "output_type": "execute_result"
    }
   ],
   "source": [
    "np.sqrt(mean_squared_error(y_test,y_pred))"
   ]
  },
  {
   "cell_type": "code",
   "execution_count": 118,
   "id": "57f45a87",
   "metadata": {},
   "outputs": [
    {
     "data": {
      "text/plain": [
       "367.538528365296"
      ]
     },
     "execution_count": 118,
     "metadata": {},
     "output_type": "execute_result"
    }
   ],
   "source": [
    "np.sqrt(mean_squared_error(y_test,y_pred))"
   ]
  },
  {
   "cell_type": "code",
   "execution_count": null,
   "id": "652b9e4c",
   "metadata": {},
   "outputs": [],
   "source": []
  },
  {
   "cell_type": "code",
   "execution_count": null,
   "id": "32146abd",
   "metadata": {},
   "outputs": [],
   "source": []
  },
  {
   "cell_type": "code",
   "execution_count": null,
   "id": "1700e6af",
   "metadata": {},
   "outputs": [],
   "source": []
  }
 ],
 "metadata": {
  "kernelspec": {
   "display_name": "Python 3 (ipykernel)",
   "language": "python",
   "name": "python3"
  },
  "language_info": {
   "codemirror_mode": {
    "name": "ipython",
    "version": 3
   },
   "file_extension": ".py",
   "mimetype": "text/x-python",
   "name": "python",
   "nbconvert_exporter": "python",
   "pygments_lexer": "ipython3",
   "version": "3.9.12"
  }
 },
 "nbformat": 4,
 "nbformat_minor": 5
}
