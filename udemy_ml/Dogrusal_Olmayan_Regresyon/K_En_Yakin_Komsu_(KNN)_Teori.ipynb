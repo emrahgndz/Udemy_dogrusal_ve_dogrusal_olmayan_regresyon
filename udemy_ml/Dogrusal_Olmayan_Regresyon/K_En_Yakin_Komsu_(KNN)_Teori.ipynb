{
 "cells": [
  {
   "cell_type": "code",
   "execution_count": 33,
   "id": "6126d74d",
   "metadata": {},
   "outputs": [],
   "source": [
    "import numpy as np\n",
    "import pandas as pd\n",
    "from sklearn.model_selection import train_test_split,ShuffleSplit,GridSearchCV\n",
    "from sklearn.metrics import mean_squared_error,r2_score\n",
    "import matplotlib.pyplot as plt\n",
    "from sklearn.preprocessing import scale\n",
    "from sklearn import model_selection\n",
    "from sklearn.tree import DecisionTreeClassifier, DecisionTreeRegressor\n",
    "from sklearn.neighbors import KNeighborsRegressor\n",
    "from sklearn.ensemble import BaggingRegressor\n",
    "from sklearn.model_selection import cross_val_score\n",
    "\n",
    "\n"
   ]
  },
  {
   "cell_type": "code",
   "execution_count": 34,
   "id": "ddd1dfba",
   "metadata": {},
   "outputs": [],
   "source": [
    "hit = pd.read_csv(\"Hitters.csv\")\n",
    "df =hit.copy()\n",
    "df = df.dropna()\n",
    "dms = pd.get_dummies(df[[\"League\",\"Division\",\"NewLeague\"]])\n",
    "y = df[\"Salary\"]\n",
    "x_ = df.drop([\"Salary\",\"League\",\"Division\",\"NewLeague\"], axis = 1).astype(\"float64\")\n",
    "x = pd.concat([x_,dms[[\"League_N\",\"Division_W\",\"NewLeague_N\"]]],axis=1)\n",
    "x_train,x_test,y_train,y_test = train_test_split(x,y,test_size=0.25,random_state=42)"
   ]
  },
  {
   "cell_type": "code",
   "execution_count": 35,
   "id": "093c5ffd",
   "metadata": {},
   "outputs": [],
   "source": [
    "knn_model = KNeighborsRegressor().fit(x_train,y_train)"
   ]
  },
  {
   "cell_type": "code",
   "execution_count": 36,
   "id": "2546dc63",
   "metadata": {},
   "outputs": [
    {
     "data": {
      "text/plain": [
       "KNeighborsRegressor()"
      ]
     },
     "execution_count": 36,
     "metadata": {},
     "output_type": "execute_result"
    }
   ],
   "source": [
    "knn_model"
   ]
  },
  {
   "cell_type": "code",
   "execution_count": 37,
   "id": "b17cd0b7",
   "metadata": {},
   "outputs": [
    {
     "data": {
      "text/plain": [
       "5"
      ]
     },
     "execution_count": 37,
     "metadata": {},
     "output_type": "execute_result"
    }
   ],
   "source": [
    "knn_model.n_neighbors"
   ]
  },
  {
   "cell_type": "markdown",
   "id": "607f9d0e",
   "metadata": {},
   "source": [
    "# Tahmin"
   ]
  },
  {
   "cell_type": "code",
   "execution_count": 38,
   "id": "aeef09b8",
   "metadata": {},
   "outputs": [],
   "source": [
    "y_pred_train = knn_model.predict(x_train)"
   ]
  },
  {
   "cell_type": "code",
   "execution_count": 39,
   "id": "ce6453b6",
   "metadata": {},
   "outputs": [],
   "source": [
    "y_pred_test = knn_model.predict(x_test)"
   ]
  },
  {
   "cell_type": "code",
   "execution_count": 40,
   "id": "c80ed2e3",
   "metadata": {},
   "outputs": [
    {
     "data": {
      "text/plain": [
       "426.6570764525201"
      ]
     },
     "execution_count": 40,
     "metadata": {},
     "output_type": "execute_result"
    }
   ],
   "source": [
    "np.sqrt(mean_squared_error(y_test,y_pred_test))"
   ]
  },
  {
   "cell_type": "code",
   "execution_count": 41,
   "id": "fdb83b84",
   "metadata": {},
   "outputs": [
    {
     "name": "stdout",
     "output_type": "stream",
     "text": [
      "k =  1 için RMSE değeri:  0.0\n",
      "k =  2 için RMSE değeri:  179.52761335480352\n",
      "k =  3 için RMSE değeri:  205.20157172291863\n",
      "k =  4 için RMSE değeri:  220.5139794876305\n",
      "k =  5 için RMSE değeri:  239.6467132541376\n",
      "k =  6 için RMSE değeri:  243.5904190007242\n",
      "k =  7 için RMSE değeri:  258.1478781634636\n",
      "k =  8 için RMSE değeri:  266.05374203349805\n",
      "k =  9 için RMSE değeri:  269.73782093553376\n",
      "k =  10 için RMSE değeri:  271.2798300436963\n"
     ]
    }
   ],
   "source": [
    "RMSE = []\n",
    "\n",
    "for k in range(10):\n",
    "    k = k+1\n",
    "    knn_model = KNeighborsRegressor(n_neighbors= k).fit(x_train,y_train)\n",
    "    y_pred = knn_model.predict(x_train)\n",
    "    rmse = np.sqrt(mean_squared_error(y_train,y_pred))\n",
    "    RMSE.append(rmse)\n",
    "    print(\"k = \", k, \"için RMSE değeri: \", rmse)"
   ]
  },
  {
   "cell_type": "markdown",
   "id": "401643cf",
   "metadata": {},
   "source": [
    "# Model Tuning "
   ]
  },
  {
   "cell_type": "code",
   "execution_count": 42,
   "id": "070b4575",
   "metadata": {},
   "outputs": [],
   "source": [
    "knn_params = {\"n_neighbors\": np.arange(1,30,1)}"
   ]
  },
  {
   "cell_type": "code",
   "execution_count": 43,
   "id": "86b313c4",
   "metadata": {},
   "outputs": [],
   "source": [
    "knn = KNeighborsRegressor()"
   ]
  },
  {
   "cell_type": "code",
   "execution_count": 44,
   "id": "ae53542e",
   "metadata": {},
   "outputs": [],
   "source": [
    "knn_cv_model = GridSearchCV(knn,knn_params,cv=10)"
   ]
  },
  {
   "cell_type": "code",
   "execution_count": 45,
   "id": "61394154",
   "metadata": {},
   "outputs": [
    {
     "data": {
      "text/plain": [
       "GridSearchCV(cv=10, estimator=KNeighborsRegressor(),\n",
       "             param_grid={'n_neighbors': array([ 1,  2,  3,  4,  5,  6,  7,  8,  9, 10, 11, 12, 13, 14, 15, 16, 17,\n",
       "       18, 19, 20, 21, 22, 23, 24, 25, 26, 27, 28, 29])})"
      ]
     },
     "execution_count": 45,
     "metadata": {},
     "output_type": "execute_result"
    }
   ],
   "source": [
    "knn_cv_model.fit(x_train,y_train)"
   ]
  },
  {
   "cell_type": "code",
   "execution_count": 46,
   "id": "0c53c5f6",
   "metadata": {},
   "outputs": [
    {
     "data": {
      "text/plain": [
       "8"
      ]
     },
     "execution_count": 46,
     "metadata": {},
     "output_type": "execute_result"
    }
   ],
   "source": [
    "knn_cv_model.best_params_[\"n_neighbors\"]"
   ]
  },
  {
   "cell_type": "code",
   "execution_count": 49,
   "id": "b26f4b30",
   "metadata": {},
   "outputs": [
    {
     "name": "stdout",
     "output_type": "stream",
     "text": [
      "k =  1 için RMSE değeri:  0.0 RMSE_CV değeri:  [325.3947514706382]\n",
      "k =  2 için RMSE değeri:  179.52761335480352 RMSE_CV değeri:  [325.3947514706382, 293.24000183333817]\n",
      "k =  3 için RMSE değeri:  205.20157172291863 RMSE_CV değeri:  [325.3947514706382, 293.24000183333817, 283.7486667487823]\n",
      "k =  4 için RMSE değeri:  220.5139794876305 RMSE_CV değeri:  [325.3947514706382, 293.24000183333817, 283.7486667487823, 286.3240222024089]\n",
      "k =  5 için RMSE değeri:  239.6467132541376 RMSE_CV değeri:  [325.3947514706382, 293.24000183333817, 283.7486667487823, 286.3240222024089, 290.0705466132226]\n",
      "k =  6 için RMSE değeri:  243.5904190007242 RMSE_CV değeri:  [325.3947514706382, 293.24000183333817, 283.7486667487823, 286.3240222024089, 290.0705466132226, 298.1263115575851]\n",
      "k =  7 için RMSE değeri:  258.1478781634636 RMSE_CV değeri:  [325.3947514706382, 293.24000183333817, 283.7486667487823, 286.3240222024089, 290.0705466132226, 298.1263115575851, 294.77070479194987]\n",
      "k =  8 için RMSE değeri:  266.05374203349805 RMSE_CV değeri:  [325.3947514706382, 293.24000183333817, 283.7486667487823, 286.3240222024089, 290.0705466132226, 298.1263115575851, 294.77070479194987, 291.98672028891235]\n",
      "k =  9 için RMSE değeri:  269.73782093553376 RMSE_CV değeri:  [325.3947514706382, 293.24000183333817, 283.7486667487823, 286.3240222024089, 290.0705466132226, 298.1263115575851, 294.77070479194987, 291.98672028891235, 295.7162739573105]\n",
      "k =  10 için RMSE değeri:  271.2798300436963 RMSE_CV değeri:  [325.3947514706382, 293.24000183333817, 283.7486667487823, 286.3240222024089, 290.0705466132226, 298.1263115575851, 294.77070479194987, 291.98672028891235, 295.7162739573105, 301.31047022701154]\n"
     ]
    }
   ],
   "source": [
    "RMSE = []\n",
    "RMSE_CV = []\n",
    "\n",
    "for k in range(10):\n",
    "    k = k+1\n",
    "    knn_model = KNeighborsRegressor(n_neighbors= k).fit(x_train,y_train)\n",
    "    y_pred = knn_model.predict(x_train)\n",
    "    rmse = np.sqrt(mean_squared_error(y_train,y_pred))\n",
    "    rmse_cv = np.sqrt(-1*cross_val_score(knn_model,x_train,y_train,cv=10,scoring=\"neg_mean_squared_error\").mean())\n",
    "    RMSE.append(rmse)\n",
    "    RMSE_CV.append(rmse_cv)\n",
    "    print(\"k = \", k, \"için RMSE değeri: \", rmse,\"RMSE_CV değeri: \",RMSE_CV)"
   ]
  },
  {
   "cell_type": "code",
   "execution_count": 50,
   "id": "edf1cf17",
   "metadata": {},
   "outputs": [],
   "source": [
    "knn_tuned = KNeighborsRegressor(knn_cv_model.best_params_[\"n_neighbors\"])"
   ]
  },
  {
   "cell_type": "code",
   "execution_count": 51,
   "id": "2ab9bcf0",
   "metadata": {},
   "outputs": [
    {
     "data": {
      "text/plain": [
       "KNeighborsRegressor(n_neighbors=8)"
      ]
     },
     "execution_count": 51,
     "metadata": {},
     "output_type": "execute_result"
    }
   ],
   "source": [
    "knn_tuned.fit(x_train,y_train)"
   ]
  },
  {
   "cell_type": "code",
   "execution_count": 52,
   "id": "7baa53e8",
   "metadata": {},
   "outputs": [
    {
     "data": {
      "text/plain": [
       "413.7094731463598"
      ]
     },
     "execution_count": 52,
     "metadata": {},
     "output_type": "execute_result"
    }
   ],
   "source": [
    "np.sqrt(mean_squared_error(y_test,knn_tuned.predict(x_test)))"
   ]
  },
  {
   "cell_type": "code",
   "execution_count": null,
   "id": "d9a14623",
   "metadata": {},
   "outputs": [],
   "source": []
  }
 ],
 "metadata": {
  "kernelspec": {
   "display_name": "Python 3 (ipykernel)",
   "language": "python",
   "name": "python3"
  },
  "language_info": {
   "codemirror_mode": {
    "name": "ipython",
    "version": 3
   },
   "file_extension": ".py",
   "mimetype": "text/x-python",
   "name": "python",
   "nbconvert_exporter": "python",
   "pygments_lexer": "ipython3",
   "version": "3.9.12"
  }
 },
 "nbformat": 4,
 "nbformat_minor": 5
}
