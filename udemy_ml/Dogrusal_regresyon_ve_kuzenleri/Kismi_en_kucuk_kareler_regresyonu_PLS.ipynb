{
 "cells": [
  {
   "cell_type": "code",
   "execution_count": 27,
   "id": "6f17adf5",
   "metadata": {},
   "outputs": [],
   "source": [
    "import pandas as pd\n",
    "import numpy as np\n",
    "import matplotlib.pyplot as plt\n",
    "from sklearn.cross_decomposition import PLSRegression,PLSSVD\n",
    "from sklearn.model_selection import train_test_split,cross_val_score,cross_val_predict\n",
    "from sklearn.metrics import mean_squared_error, r2_score\n"
   ]
  },
  {
   "cell_type": "code",
   "execution_count": 47,
   "id": "bdc91d87",
   "metadata": {},
   "outputs": [],
   "source": [
    "hit = pd.read_csv(\"Hitters.csv\")\n",
    "df = hit.copy()\n",
    "df = df.dropna()\n",
    "dms = pd.get_dummies(df[[\"League\",\"Division\",\"NewLeague\"]])\n",
    "y = df[\"Salary\"]\n",
    "x_ = df.drop([\"Salary\",\"League\",\"Division\",\"NewLeague\"],axis = 1).astype(\"float64\")\n",
    "x = pd.concat([x_,dms[[\"League_N\",\"Division_W\",\"NewLeague_N\"]]],axis = 1)\n",
    "x_train, x_test, y_train, y_test = train_test_split(x,y,test_size=0.25,random_state=42)"
   ]
  },
  {
   "cell_type": "code",
   "execution_count": 48,
   "id": "55caefbb",
   "metadata": {},
   "outputs": [],
   "source": [
    "pls_model = PLSRegression().fit(x_train,y_train)"
   ]
  },
  {
   "cell_type": "code",
   "execution_count": 49,
   "id": "06b25ef0",
   "metadata": {},
   "outputs": [
    {
     "data": {
      "text/plain": [
       "array([[ 35.32916493],\n",
       "       [ 48.83425857],\n",
       "       [ 18.50240933],\n",
       "       [ 39.28117603],\n",
       "       [ 30.59952998],\n",
       "       [ 40.03398345],\n",
       "       [ 16.85990516],\n",
       "       [ 28.22289896],\n",
       "       [ 32.73784993],\n",
       "       [ 22.00875744],\n",
       "       [ 33.60903032],\n",
       "       [ 30.39402522],\n",
       "       [ 25.73279799],\n",
       "       [ 54.98835148],\n",
       "       [  6.56590871],\n",
       "       [ -0.90894359],\n",
       "       [ 17.60903423],\n",
       "       [-37.24246339],\n",
       "       [ 14.69680385]])"
      ]
     },
     "execution_count": 49,
     "metadata": {},
     "output_type": "execute_result"
    }
   ],
   "source": [
    "pls_model.coef_"
   ]
  },
  {
   "cell_type": "markdown",
   "id": "0fe46050",
   "metadata": {},
   "source": [
    "# Tahmin"
   ]
  },
  {
   "cell_type": "code",
   "execution_count": 50,
   "id": "6782b5e4",
   "metadata": {},
   "outputs": [
    {
     "data": {
      "text/plain": [
       "array([[ 344.91941493],\n",
       "       [ 848.87070769],\n",
       "       [ 692.93622642],\n",
       "       [ 185.56577984],\n",
       "       [ 435.49196077],\n",
       "       [ 987.49530026],\n",
       "       [ 120.63097106],\n",
       "       [ 289.9263406 ],\n",
       "       [ 663.41886918],\n",
       "       [ 817.90486641],\n",
       "       [1400.82155793],\n",
       "       [ 889.55177741],\n",
       "       [ 966.02942625],\n",
       "       [ 761.83859363],\n",
       "       [ 817.87219643],\n",
       "       [ 778.83233464],\n",
       "       [ 947.29337036],\n",
       "       [   2.76773968],\n",
       "       [ -72.48003564],\n",
       "       [ 382.99117487],\n",
       "       [ 596.85479706],\n",
       "       [ 977.61608943],\n",
       "       [ 415.33783869],\n",
       "       [ 464.78071379],\n",
       "       [ -26.62516231],\n",
       "       [ 722.22493096],\n",
       "       [ 494.5057314 ],\n",
       "       [ 242.23751188],\n",
       "       [ 206.9261497 ],\n",
       "       [ 232.56490602],\n",
       "       [  64.4824203 ],\n",
       "       [ 542.14513157],\n",
       "       [ 947.14732555],\n",
       "       [ 194.89583773],\n",
       "       [ 362.6202354 ],\n",
       "       [ 295.26950277],\n",
       "       [ 439.33442044],\n",
       "       [ 776.65786654],\n",
       "       [ 317.39738256],\n",
       "       [ 137.13823539],\n",
       "       [ 103.25963596],\n",
       "       [ 206.20369642],\n",
       "       [ 139.57105168],\n",
       "       [ 120.59249853],\n",
       "       [ 230.30589651],\n",
       "       [1104.22505297],\n",
       "       [ 640.35250992],\n",
       "       [ 482.26330677],\n",
       "       [ 338.69287437],\n",
       "       [ 275.48478485],\n",
       "       [ 443.09856705],\n",
       "       [ 576.77544271],\n",
       "       [ 530.92923226],\n",
       "       [ 537.95696355],\n",
       "       [ 827.0093267 ],\n",
       "       [ 504.93654004],\n",
       "       [ 363.82023709],\n",
       "       [ 876.99960817],\n",
       "       [ 356.80129675],\n",
       "       [1190.55931812],\n",
       "       [ 489.16389588],\n",
       "       [ 387.90993107],\n",
       "       [ 333.91410512],\n",
       "       [ 431.10113491],\n",
       "       [ 300.39074812],\n",
       "       [ 758.6208842 ],\n",
       "       [ 131.04609319],\n",
       "       [ 520.52218812],\n",
       "       [ 191.42056216],\n",
       "       [ 282.47606677],\n",
       "       [ 193.01156511],\n",
       "       [ 840.08402686],\n",
       "       [ 753.19527348],\n",
       "       [ 743.7891691 ],\n",
       "       [1183.74115181],\n",
       "       [ 400.30437169],\n",
       "       [ 538.64139742],\n",
       "       [ 537.97462384],\n",
       "       [ 377.30735193],\n",
       "       [ 859.84520519],\n",
       "       [ 676.95220453],\n",
       "       [ 539.78005323],\n",
       "       [ 654.61041972],\n",
       "       [ 585.28159185],\n",
       "       [ 141.10256914],\n",
       "       [ 739.72520145],\n",
       "       [ 629.95930451],\n",
       "       [ 912.91829979],\n",
       "       [1096.94843574],\n",
       "       [ 675.58950122],\n",
       "       [ 389.27506923],\n",
       "       [ 126.18233799],\n",
       "       [1135.54329228],\n",
       "       [ 189.72952275],\n",
       "       [ 447.3487793 ],\n",
       "       [1205.6028998 ],\n",
       "       [ 942.20785658],\n",
       "       [ 504.31670339],\n",
       "       [ 823.62261845],\n",
       "       [ 728.07314615],\n",
       "       [ 599.83451369],\n",
       "       [ 170.12742898],\n",
       "       [ 627.0239192 ],\n",
       "       [1235.77222066],\n",
       "       [ 600.53824845],\n",
       "       [ 967.85772351],\n",
       "       [ 751.73087401],\n",
       "       [ 315.83907626],\n",
       "       [  40.21185627],\n",
       "       [ 656.51923183],\n",
       "       [ 693.59998687],\n",
       "       [ 521.10719277],\n",
       "       [ 368.06725332],\n",
       "       [ 672.66616253],\n",
       "       [ 520.88474402],\n",
       "       [ 426.42356447],\n",
       "       [ 945.09783753],\n",
       "       [ 867.06707213],\n",
       "       [ 403.29231445],\n",
       "       [ 270.93127792],\n",
       "       [ 645.6084524 ],\n",
       "       [ 648.90438928],\n",
       "       [1188.87984117],\n",
       "       [ 298.33915552],\n",
       "       [  42.27915174],\n",
       "       [ 376.97572887],\n",
       "       [1239.63066645],\n",
       "       [ 146.51149667],\n",
       "       [ 123.04845538],\n",
       "       [ 505.47950983],\n",
       "       [ 702.4254169 ],\n",
       "       [ 959.50114437],\n",
       "       [1239.1007946 ],\n",
       "       [ 776.87746259],\n",
       "       [ 789.23934969],\n",
       "       [ 298.65115235],\n",
       "       [ 823.65710328],\n",
       "       [ 367.43866005],\n",
       "       [ 179.95264275],\n",
       "       [ 829.57445606],\n",
       "       [ 103.00694918],\n",
       "       [ 501.81907706],\n",
       "       [ 396.99923891],\n",
       "       [ 490.7660317 ],\n",
       "       [ 180.80303113],\n",
       "       [ 274.55295078],\n",
       "       [ 222.69186223],\n",
       "       [ 474.33940522],\n",
       "       [ 550.49814828],\n",
       "       [1393.23366147],\n",
       "       [ 360.88370197],\n",
       "       [  39.23245348],\n",
       "       [  49.20652544],\n",
       "       [ 149.43425153],\n",
       "       [ 830.79509324],\n",
       "       [ 203.05489531],\n",
       "       [1147.57610967],\n",
       "       [ 137.07714902],\n",
       "       [ 800.89191645],\n",
       "       [ 707.52323994],\n",
       "       [ 392.05240032],\n",
       "       [ 411.1240772 ],\n",
       "       [1020.23625053],\n",
       "       [ 117.75552976],\n",
       "       [ 579.30374076],\n",
       "       [ 761.91992915],\n",
       "       [ 311.53705643],\n",
       "       [ 183.07167536],\n",
       "       [ 718.64239608],\n",
       "       [ 630.78907744],\n",
       "       [ 645.78421187],\n",
       "       [ 245.93783229],\n",
       "       [ 733.19794244],\n",
       "       [ 805.20782122],\n",
       "       [ 282.51456849],\n",
       "       [ 237.11595709],\n",
       "       [ 613.03085516],\n",
       "       [ 682.56957162],\n",
       "       [ 712.55731196],\n",
       "       [ 975.11593361],\n",
       "       [ 360.84289278],\n",
       "       [ 471.06738571],\n",
       "       [  89.68525531],\n",
       "       [ 529.86821565],\n",
       "       [ 475.45745999],\n",
       "       [ 676.95590287],\n",
       "       [ 704.94902994],\n",
       "       [ 589.47128919],\n",
       "       [ 236.74078393],\n",
       "       [ 390.70412149],\n",
       "       [ 248.82957373],\n",
       "       [ 729.62298853],\n",
       "       [1280.21593346],\n",
       "       [1129.60331022],\n",
       "       [ 516.03035739],\n",
       "       [ 576.90715528],\n",
       "       [ 233.51115388]])"
      ]
     },
     "execution_count": 50,
     "metadata": {},
     "output_type": "execute_result"
    }
   ],
   "source": [
    "pls_model.predict(x_train)"
   ]
  },
  {
   "cell_type": "code",
   "execution_count": 51,
   "id": "609190e4",
   "metadata": {},
   "outputs": [],
   "source": [
    "y_pred = pls_model.predict(x_train)"
   ]
  },
  {
   "cell_type": "code",
   "execution_count": 52,
   "id": "7774ac1f",
   "metadata": {},
   "outputs": [
    {
     "data": {
      "text/plain": [
       "310.1167593109696"
      ]
     },
     "execution_count": 52,
     "metadata": {},
     "output_type": "execute_result"
    }
   ],
   "source": [
    "np.sqrt(mean_squared_error(y_train,y_pred))"
   ]
  },
  {
   "cell_type": "code",
   "execution_count": 53,
   "id": "e12a706b",
   "metadata": {},
   "outputs": [
    {
     "data": {
      "text/plain": [
       "0.5140424486535482"
      ]
     },
     "execution_count": 53,
     "metadata": {},
     "output_type": "execute_result"
    }
   ],
   "source": [
    "r2_score(y_train,y_pred)"
   ]
  },
  {
   "cell_type": "code",
   "execution_count": 54,
   "id": "9191ee26",
   "metadata": {},
   "outputs": [],
   "source": [
    "y_pred2 = y_pred = pls_model.predict(x_test)"
   ]
  },
  {
   "cell_type": "code",
   "execution_count": 55,
   "id": "fb898d0b",
   "metadata": {},
   "outputs": [
    {
     "data": {
      "text/plain": [
       "398.09956327448526"
      ]
     },
     "execution_count": 55,
     "metadata": {},
     "output_type": "execute_result"
    }
   ],
   "source": [
    "np.sqrt(mean_squared_error(y_test,y_pred))"
   ]
  },
  {
   "cell_type": "markdown",
   "id": "c103cf3a",
   "metadata": {},
   "source": [
    "# Model Tuning"
   ]
  },
  {
   "cell_type": "code",
   "execution_count": 56,
   "id": "cebe68ae",
   "metadata": {},
   "outputs": [],
   "source": [
    "from sklearn import model_selection\n",
    "cv_10 = model_selection.KFold(n_splits=10,shuffle=True,random_state=1)\n",
    "RMSE = []\n",
    "\n",
    "\n",
    "for i in np.arange(1,x_train.shape[1]+1):\n",
    "    pls = PLSRegression(n_components=i)\n",
    "    score = np.sqrt(-1*model_selection.cross_val_score(pls,\n",
    "                                                      x_train,\n",
    "                                                      y_train,\n",
    "                                                      cv=cv_10,\n",
    "                                                      scoring=\"neg_mean_squared_error\").mean())\n",
    "    RMSE.append(score)"
   ]
  },
  {
   "cell_type": "code",
   "execution_count": 57,
   "id": "68dbaa40",
   "metadata": {},
   "outputs": [
    {
     "data": {
      "image/png": "[encoded data removed]",
      "text/plain": [
       "<Figure size 432x288 with 1 Axes>"
      ]
     },
     "metadata": {
      "needs_background": "light"
     },
     "output_type": "display_data"
    }
   ],
   "source": [
    "plt.plot(np.arange(1,x_train.shape[1]+1),np.array(RMSE),\"-v\",c=\"r\")\n",
    "plt.xlabel(\"Bileşen Sayısı\")\n",
    "plt.ylabel(\"RMSE\")\n",
    "plt.title(\"Salary\");"
   ]
  },
  {
   "cell_type": "code",
   "execution_count": 58,
   "id": "43fd233d",
   "metadata": {},
   "outputs": [],
   "source": [
    "pls_model = PLSRegression(n_components=2).fit(x_train,y_train)"
   ]
  },
  {
   "cell_type": "code",
   "execution_count": 59,
   "id": "88a3607d",
   "metadata": {},
   "outputs": [],
   "source": [
    "y_pred = pls_model.predict(x_test)"
   ]
  },
  {
   "cell_type": "code",
   "execution_count": 60,
   "id": "f7f78755",
   "metadata": {},
   "outputs": [
    {
     "data": {
      "text/plain": [
       "398.09956327448526"
      ]
     },
     "execution_count": 60,
     "metadata": {},
     "output_type": "execute_result"
    }
   ],
   "source": [
    "np.sqrt(mean_squared_error(y_test,y_pred))"
   ]
  },
  {
   "cell_type": "code",
   "execution_count": null,
   "id": "419e8611",
   "metadata": {},
   "outputs": [],
   "source": []
  },
  {
   "cell_type": "code",
   "execution_count": null,
   "id": "a883dca1",
   "metadata": {},
   "outputs": [],
   "source": []
  },
  {
   "cell_type": "code",
   "execution_count": null,
   "id": "75a92147",
   "metadata": {},
   "outputs": [],
   "source": []
  },
  {
   "cell_type": "code",
   "execution_count": null,
   "id": "e6bf0021",
   "metadata": {},
   "outputs": [],
   "source": []
  },
  {
   "cell_type": "code",
   "execution_count": null,
   "id": "53891478",
   "metadata": {},
   "outputs": [],
   "source": []
  },
  {
   "cell_type": "code",
   "execution_count": null,
   "id": "93b96ef2",
   "metadata": {},
   "outputs": [],
   "source": []
  }
 ],
 "metadata": {
  "kernelspec": {
   "display_name": "Python 3 (ipykernel)",
   "language": "python",
   "name": "python3"
  },
  "language_info": {
   "codemirror_mode": {
    "name": "ipython",
    "version": 3
   },
   "file_extension": ".py",
   "mimetype": "text/x-python",
   "name": "python",
   "nbconvert_exporter": "python",
   "pygments_lexer": "ipython3",
   "version": "3.9.12"
  }
 },
 "nbformat": 4,
 "nbformat_minor": 5
}
